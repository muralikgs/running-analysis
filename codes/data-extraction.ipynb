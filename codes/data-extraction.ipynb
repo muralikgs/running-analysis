{
 "cells": [
  {
   "cell_type": "markdown",
   "id": "37c8e8f3-ed3c-4129-b2e0-f9bfde994aae",
   "metadata": {},
   "source": [
    "For more information check out this repo [https://github.com/zwinslett/strava-shoe-explore](https://github.com/zwinslett/strava-shoe-explore)"
   ]
  },
  {
   "cell_type": "code",
   "execution_count": 2,
   "id": "e809c323-62dd-4327-81e6-22b02130c3b2",
   "metadata": {},
   "outputs": [],
   "source": [
    "import numpy as np \n",
    "from matplotlib import pyplot as plt \n",
    "import seaborn as sns \n",
    "\n",
    "from data_extraction import *"
   ]
  },
  {
   "cell_type": "code",
   "execution_count": 3,
   "id": "78034a0b-f2e7-4750-8604-a2ecf992ac47",
   "metadata": {},
   "outputs": [
    {
     "name": "stdout",
     "output_type": "stream",
     "text": [
      "You are requesting page 1 of your activities data ...\n",
      "You are requesting page 2 of your activities data ...\n"
     ]
    }
   ],
   "source": [
    "df = get_cleaned_dataset()"
   ]
  },
  {
   "cell_type": "code",
   "execution_count": 5,
   "id": "c4d74f9e",
   "metadata": {},
   "outputs": [],
   "source": [
    "for index, row in df.iterrows():\n",
    "    break"
   ]
  },
  {
   "cell_type": "code",
   "execution_count": 11,
   "id": "a2c7a4ca",
   "metadata": {},
   "outputs": [
    {
     "data": {
      "text/plain": [
       "Index(['resource_state', 'name', 'distance', 'moving_time', 'elapsed_time',\n",
       "       'total_elevation_gain', 'type', 'sport_type', 'workout_type', 'id',\n",
       "       'start_date', 'start_date_local', 'timezone', 'utc_offset',\n",
       "       'location_city', 'location_state', 'location_country',\n",
       "       'achievement_count', 'kudos_count', 'comment_count', 'athlete_count',\n",
       "       'photo_count', 'trainer', 'commute', 'manual', 'private', 'visibility',\n",
       "       'flagged', 'gear_id', 'start_latlng', 'end_latlng', 'average_speed',\n",
       "       'max_speed', 'has_heartrate', 'heartrate_opt_out',\n",
       "       'display_hide_heartrate_option', 'elev_high', 'elev_low', 'upload_id',\n",
       "       'upload_id_str', 'external_id', 'from_accepted_tag', 'pr_count',\n",
       "       'total_photo_count', 'has_kudoed', 'athlete.id',\n",
       "       'athlete.resource_state', 'map.id', 'map.summary_polyline',\n",
       "       'map.resource_state', 'suffer_score'],\n",
       "      dtype='object')"
      ]
     },
     "execution_count": 11,
     "metadata": {},
     "output_type": "execute_result"
    }
   ],
   "source": [
    "df.columns"
   ]
  },
  {
   "cell_type": "code",
   "execution_count": 12,
   "id": "81361d22",
   "metadata": {},
   "outputs": [
    {
     "data": {
      "text/plain": [
       "2.466"
      ]
     },
     "execution_count": 12,
     "metadata": {},
     "output_type": "execute_result"
    }
   ],
   "source": [
    "row['average_speed']"
   ]
  },
  {
   "cell_type": "code",
   "execution_count": 13,
   "id": "c38cae21",
   "metadata": {},
   "outputs": [
    {
     "data": {
      "text/plain": [
       "resource_state                                                                   2\n",
       "name                                                                  Asha run - 1\n",
       "distance                                                                    5048.8\n",
       "moving_time                                                                   2047\n",
       "elapsed_time                                                                  2062\n",
       "total_elevation_gain                                                           0.0\n",
       "type                                                                           Run\n",
       "sport_type                                                                     Run\n",
       "workout_type                                                                     0\n",
       "id                                                                     10734463446\n",
       "start_date                                                    2024-02-10T14:28:54Z\n",
       "start_date_local                                              2024-02-10T09:28:54Z\n",
       "timezone                                              (GMT-05:00) America/New_York\n",
       "utc_offset                                                                -18000.0\n",
       "location_city                                                                 None\n",
       "location_state                                                                None\n",
       "location_country                                                              None\n",
       "achievement_count                                                                4\n",
       "kudos_count                                                                     12\n",
       "comment_count                                                                    0\n",
       "athlete_count                                                                    5\n",
       "photo_count                                                                      0\n",
       "trainer                                                                      False\n",
       "commute                                                                      False\n",
       "manual                                                                       False\n",
       "private                                                                      False\n",
       "visibility                                                                everyone\n",
       "flagged                                                                      False\n",
       "gear_id                                                                  g16090675\n",
       "start_latlng                              [33.776425290852785, -84.40287670120597]\n",
       "end_latlng                                 [33.77640651538968, -84.40296865068376]\n",
       "average_speed                                                                2.466\n",
       "max_speed                                                                    3.454\n",
       "has_heartrate                                                                False\n",
       "heartrate_opt_out                                                            False\n",
       "display_hide_heartrate_option                                                False\n",
       "elev_high                                                                    295.2\n",
       "elev_low                                                                     294.9\n",
       "upload_id                                                              11478817634\n",
       "upload_id_str                                                          11478817634\n",
       "external_id                      890880DD-557B-4C23-8ABC-BC77262F495E-activity.fit\n",
       "from_accepted_tag                                                            False\n",
       "pr_count                                                                         1\n",
       "total_photo_count                                                                0\n",
       "has_kudoed                                                                   False\n",
       "athlete.id                                                                31991045\n",
       "athlete.resource_state                                                           1\n",
       "map.id                                                                a10734463446\n",
       "map.summary_polyline             cbdmEv_dbOKfCAH@`@Ab@?`ABDL@^AlAFFEBQDo@?gAD_@...\n",
       "map.resource_state                                                               2\n",
       "suffer_score                                                                   NaN\n",
       "Name: 0, dtype: object"
      ]
     },
     "execution_count": 13,
     "metadata": {},
     "output_type": "execute_result"
    }
   ],
   "source": [
    "\n",
    "row"
   ]
  },
  {
   "cell_type": "code",
   "execution_count": null,
   "id": "52a32884",
   "metadata": {},
   "outputs": [],
   "source": []
  }
 ],
 "metadata": {
  "kernelspec": {
   "display_name": "Python 3 (ipykernel)",
   "language": "python",
   "name": "python3"
  },
  "language_info": {
   "codemirror_mode": {
    "name": "ipython",
    "version": 3
   },
   "file_extension": ".py",
   "mimetype": "text/x-python",
   "name": "python",
   "nbconvert_exporter": "python",
   "pygments_lexer": "ipython3",
   "version": "3.1.undefined"
  }
 },
 "nbformat": 4,
 "nbformat_minor": 5
}
